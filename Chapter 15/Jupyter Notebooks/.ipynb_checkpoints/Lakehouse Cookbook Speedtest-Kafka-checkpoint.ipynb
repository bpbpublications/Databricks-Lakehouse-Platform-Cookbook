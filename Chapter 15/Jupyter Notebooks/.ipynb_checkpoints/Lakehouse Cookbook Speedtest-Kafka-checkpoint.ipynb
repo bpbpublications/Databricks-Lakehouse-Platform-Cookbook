{
 "cells": [
  {
   "cell_type": "code",
   "execution_count": 1,
   "id": "1f1c4092",
   "metadata": {
    "ExecuteTime": {
     "end_time": "2023-09-09T18:50:57.002957Z",
     "start_time": "2023-09-09T18:50:56.990960Z"
    }
   },
   "outputs": [],
   "source": [
    "from configparser import ConfigParser\n",
    "parser = ConfigParser()\n",
    "_ = parser.read('notebook.cfg')\n",
    "kakfaUsername = parser.get('my_Notebook','sasl.username')\n",
    "kakfaPassword = parser.get('my_Notebook','sasl.password')"
   ]
  },
  {
   "cell_type": "code",
   "execution_count": 2,
   "id": "0e3b7dca",
   "metadata": {
    "ExecuteTime": {
     "end_time": "2023-09-09T18:50:59.977984Z",
     "start_time": "2023-09-09T18:50:57.004957Z"
    }
   },
   "outputs": [
    {
     "name": "stdout",
     "output_type": "stream",
     "text": [
      "Requirement already satisfied: confluent-kafka in c:\\users\\aland\\anaconda3\\envs\\pythonandr\\lib\\site-packages (2.2.0)\n",
      "Note: you may need to restart the kernel to use updated packages.\n"
     ]
    },
    {
     "name": "stderr",
     "output_type": "stream",
     "text": [
      "WARNING: Ignoring invalid distribution -illow (c:\\users\\aland\\anaconda3\\envs\\pythonandr\\lib\\site-packages)\n",
      "WARNING: Ignoring invalid distribution -illow (c:\\users\\aland\\anaconda3\\envs\\pythonandr\\lib\\site-packages)\n",
      "WARNING: Ignoring invalid distribution -illow (c:\\users\\aland\\anaconda3\\envs\\pythonandr\\lib\\site-packages)\n",
      "WARNING: Ignoring invalid distribution -illow (c:\\users\\aland\\anaconda3\\envs\\pythonandr\\lib\\site-packages)\n",
      "WARNING: Ignoring invalid distribution -illow (c:\\users\\aland\\anaconda3\\envs\\pythonandr\\lib\\site-packages)\n",
      "WARNING: Ignoring invalid distribution -illow (c:\\users\\aland\\anaconda3\\envs\\pythonandr\\lib\\site-packages)\n"
     ]
    }
   ],
   "source": [
    "pip install confluent-kafka"
   ]
  },
  {
   "cell_type": "code",
   "execution_count": 3,
   "id": "b2b6481a",
   "metadata": {
    "ExecuteTime": {
     "end_time": "2023-09-09T18:51:00.009954Z",
     "start_time": "2023-09-09T18:50:59.979955Z"
    }
   },
   "outputs": [],
   "source": [
    "from confluent_kafka import Producer\n",
    "import socket"
   ]
  },
  {
   "cell_type": "markdown",
   "id": "2521198d",
   "metadata": {
    "ExecuteTime": {
     "end_time": "2023-09-09T17:57:55.692657Z",
     "start_time": "2023-09-09T17:57:55.683625Z"
    }
   },
   "source": [
    "Settings"
   ]
  },
  {
   "cell_type": "code",
   "execution_count": 4,
   "id": "934977c3",
   "metadata": {
    "ExecuteTime": {
     "end_time": "2023-09-09T18:51:00.072984Z",
     "start_time": "2023-09-09T18:51:00.011955Z"
    }
   },
   "outputs": [],
   "source": [
    "topicName = 'speedtest'\n",
    "sleepMinutes = 10"
   ]
  },
  {
   "cell_type": "markdown",
   "id": "6b477c44",
   "metadata": {
    "ExecuteTime": {
     "end_time": "2023-07-08T14:08:49.858737Z",
     "start_time": "2023-07-08T14:08:46.272326Z"
    }
   },
   "source": [
    "Ensure speedtest-cli is installed in your environment"
   ]
  },
  {
   "cell_type": "code",
   "execution_count": 5,
   "id": "f851da15",
   "metadata": {
    "ExecuteTime": {
     "end_time": "2023-09-09T18:51:00.135987Z",
     "start_time": "2023-09-09T18:51:00.074954Z"
    }
   },
   "outputs": [],
   "source": [
    "# pip install speedtest-cli"
   ]
  },
  {
   "cell_type": "markdown",
   "id": "595fc7e9",
   "metadata": {},
   "source": [
    "Imports"
   ]
  },
  {
   "cell_type": "code",
   "execution_count": 6,
   "id": "12ce34ac",
   "metadata": {
    "ExecuteTime": {
     "end_time": "2023-09-09T18:51:00.471954Z",
     "start_time": "2023-09-09T18:51:00.137985Z"
    }
   },
   "outputs": [],
   "source": [
    "import os\n",
    "import speedtest \n",
    "import socket\n",
    "import requests\n",
    "import json\n",
    "import datetime\n",
    "import time"
   ]
  },
  {
   "cell_type": "markdown",
   "id": "cedd8a73",
   "metadata": {
    "ExecuteTime": {
     "end_time": "2023-07-08T14:49:08.362905Z",
     "start_time": "2023-07-08T14:49:08.269901Z"
    }
   },
   "source": [
    "Define function to generate speed test results"
   ]
  },
  {
   "cell_type": "code",
   "execution_count": 7,
   "id": "c7ed0428",
   "metadata": {
    "ExecuteTime": {
     "end_time": "2023-09-09T18:51:00.486952Z",
     "start_time": "2023-09-09T18:51:00.473955Z"
    }
   },
   "outputs": [],
   "source": [
    "def test():\n",
    "    s = speedtest.Speedtest()\n",
    "    ip = socket.gethostbyname(socket.gethostname())\n",
    "    ipUrl = \"https://api.ipify.org/?format=json\"\n",
    "    response= json.loads(requests.get(ipUrl).text)\n",
    "    print(response)\n",
    "    print(response[\"ip\"])\n",
    "    externalIp = response[\"ip\"]\n",
    "    s.get_servers()\n",
    "    s.get_best_server()\n",
    "    s.download()\n",
    "    s.upload()\n",
    "    res = s.results.dict()\n",
    "    return res[\"download\"], res[\"upload\"], res[\"ping\"],externalIp"
   ]
  },
  {
   "cell_type": "markdown",
   "id": "4c60dbda",
   "metadata": {
    "ExecuteTime": {
     "end_time": "2023-07-08T14:49:08.393907Z",
     "start_time": "2023-07-08T14:49:08.378901Z"
    }
   },
   "source": [
    "Define function to send data to kafka server"
   ]
  },
  {
   "cell_type": "code",
   "execution_count": 12,
   "id": "43915739",
   "metadata": {
    "ExecuteTime": {
     "end_time": "2023-09-09T18:58:08.135811Z",
     "start_time": "2023-09-09T18:58:08.130807Z"
    }
   },
   "outputs": [],
   "source": [
    "from azure.eventhub import EventHubProducerClient, EventData\n",
    "def acked(err, msg):\n",
    "    print(\"Massage Acked\")\n",
    "    if err is not None:\n",
    "        print(\"Failed to deliver message: %s: %s\" % (str(msg), str(err)))\n",
    "    else:\n",
    "        print(\"Message produced: %s\" % (str(msg)))\n",
    "def SendToStream(data):\n",
    "    try:\n",
    "        print(\"enter SendToStream\", data)\n",
    "        conf = {'bootstrap.servers': 'pkc-419q3.us-east4.gcp.confluent.cloud:9092',\n",
    "        'security.protocol': 'SASL_SSL',\n",
    "        'sasl.mechanism': 'PLAIN',\n",
    "        'sasl.username': kakfaUsername,\n",
    "        'sasl.password': kakfaPassword,\n",
    "        'client.id': socket.gethostname()}\n",
    "        producer = Producer(conf)        \n",
    "        result = producer.produce(topicName, key=\"reading\", value=data,callback=acked)    \n",
    "        producer.flush()        \n",
    "        print(\"Sent data\")\n",
    "    except Exception as e:\n",
    "        print(\"Unable to send data to event hub\",e)"
   ]
  },
  {
   "cell_type": "markdown",
   "id": "4c6e2fbc",
   "metadata": {},
   "source": [
    "Helper function to return timestamp"
   ]
  },
  {
   "cell_type": "code",
   "execution_count": 13,
   "id": "9d2956a2",
   "metadata": {
    "ExecuteTime": {
     "end_time": "2023-09-09T18:58:09.001562Z",
     "start_time": "2023-09-09T18:58:08.994561Z"
    }
   },
   "outputs": [],
   "source": [
    "import time\n",
    "import calendar\n",
    "def GetTimestamp():\n",
    "    gmTime= time.gmtime()    \n",
    "    now = calendar.timegm( gmTime)\n",
    "    print(\"GetTimestamp\",now,gmTime)\n",
    "    return now"
   ]
  },
  {
   "cell_type": "markdown",
   "id": "75f2a793",
   "metadata": {},
   "source": [
    "Main logic - get timesamp, run test, send results to kafka, sleep and repeat"
   ]
  },
  {
   "cell_type": "code",
   "execution_count": null,
   "id": "eaecbad5",
   "metadata": {
    "ExecuteTime": {
     "start_time": "2023-09-09T18:58:10.833Z"
    }
   },
   "outputs": [
    {
     "name": "stdout",
     "output_type": "stream",
     "text": [
      "ready to start work\n",
      "GetTimestamp 1694285890 time.struct_time(tm_year=2023, tm_mon=9, tm_mday=9, tm_hour=18, tm_min=58, tm_sec=10, tm_wday=5, tm_yday=252, tm_isdst=0)\n",
      "{'ip': '98.97.18.13'}\n",
      "98.97.18.13\n",
      "23336927.885034632 12864058.855549974 74.716 98.97.18.13\n",
      "enter SendToStream {\"utc\": 1694285890, \"ip\": \"98.97.18.13\", \"download\": 23336927.885034632, \"upload\": 12864058.855549974, \"ping\": 74.716}\n",
      "Massage Acked\n",
      "Message produced: <cimpl.Message object at 0x0000026DACC47C40>\n",
      "Sent data\n",
      "sent to event hub\n",
      "sleeping 10\n",
      "GetTimestamp 1694286046 time.struct_time(tm_year=2023, tm_mon=9, tm_mday=9, tm_hour=19, tm_min=0, tm_sec=46, tm_wday=5, tm_yday=252, tm_isdst=0)\n",
      "exception HTTP Error 403: Forbidden\n",
      "enter SendToStream {\"utc\": 1694286046, \"ip\": \"172.28.96.1\", \"download\": -1, \"upload\": -1, \"ping\": -1}\n",
      "Massage Acked\n",
      "Message produced: <cimpl.Message object at 0x0000026DACC47C40>\n",
      "Sent data\n",
      "sent to event hub\n",
      "sleeping 10\n"
     ]
    }
   ],
   "source": [
    "import time\n",
    "print(\"ready to start work\")\n",
    "linesToWrite = []\n",
    "while (True):  \n",
    "    try:\n",
    "        now = GetTimestamp()\n",
    "        d, u, p,ip = test()\n",
    "        print(d,u,p,ip)\n",
    "    except  Exception as ex:\n",
    "        print(\"exception\",ex)\n",
    "        d = -1\n",
    "        u = -1\n",
    "        p = -1\n",
    "        ip = socket.gethostbyname(socket.gethostname())\n",
    "    eventData = json.dumps( {\"utc\":now,\"ip\":ip,\"download\":d,\"upload\":u,\"ping\":p})\n",
    "    SendToStream(eventData)\n",
    "    if sleepMinutes>0:\n",
    "        print('sleeping',sleepMinutes)\n",
    "        time.sleep(sleepMinutes * 10) # time.sleep takes seconds as parameter"
   ]
  },
  {
   "cell_type": "code",
   "execution_count": null,
   "id": "008ff3cc",
   "metadata": {},
   "outputs": [],
   "source": []
  }
 ],
 "metadata": {
  "kernelspec": {
   "display_name": "Python 3",
   "language": "python",
   "name": "python3"
  },
  "language_info": {
   "codemirror_mode": {
    "name": "ipython",
    "version": 3
   },
   "file_extension": ".py",
   "mimetype": "text/x-python",
   "name": "python",
   "nbconvert_exporter": "python",
   "pygments_lexer": "ipython3",
   "version": "3.8.10"
  },
  "latex_envs": {
   "LaTeX_envs_menu_present": true,
   "autoclose": false,
   "autocomplete": true,
   "bibliofile": "biblio.bib",
   "cite_by": "apalike",
   "current_citInitial": 1,
   "eqLabelWithNumbers": true,
   "eqNumInitial": 1,
   "hotkeys": {
    "equation": "Ctrl-E",
    "itemize": "Ctrl-I"
   },
   "labels_anchors": false,
   "latex_user_defs": false,
   "report_style_numbering": false,
   "user_envs_cfg": false
  },
  "toc": {
   "base_numbering": 1,
   "nav_menu": {},
   "number_sections": true,
   "sideBar": true,
   "skip_h1_title": false,
   "title_cell": "Table of Contents",
   "title_sidebar": "Contents",
   "toc_cell": false,
   "toc_position": {},
   "toc_section_display": true,
   "toc_window_display": false
  }
 },
 "nbformat": 4,
 "nbformat_minor": 5
}
