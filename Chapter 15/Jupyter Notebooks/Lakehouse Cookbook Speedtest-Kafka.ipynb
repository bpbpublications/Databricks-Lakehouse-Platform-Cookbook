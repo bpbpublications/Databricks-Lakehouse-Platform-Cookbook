{
 "cells": [
  {
   "cell_type": "markdown",
   "id": "fbc46d49",
   "metadata": {
    "ExecuteTime": {
     "end_time": "2023-09-09T19:11:54.597769Z",
     "start_time": "2023-09-09T19:11:54.578768Z"
    }
   },
   "source": [
    "For more on black library and code formating see https://medium.com/openplanetary/code-formatting-in-jupyter-cells-8fee4eda072f"
   ]
  },
  {
   "cell_type": "code",
   "execution_count": 1,
   "id": "2db58840",
   "metadata": {
    "ExecuteTime": {
     "end_time": "2023-09-09T22:54:29.592745Z",
     "start_time": "2023-09-09T22:54:29.435749Z"
    }
   },
   "outputs": [
    {
     "data": {
      "application/javascript": [
       "\n",
       "            setTimeout(function() {\n",
       "                var nbb_cell_id = 1;\n",
       "                var nbb_unformatted_code = \"%load_ext nb_black\";\n",
       "                var nbb_formatted_code = \"%load_ext nb_black\";\n",
       "                var nbb_cells = Jupyter.notebook.get_cells();\n",
       "                for (var i = 0; i < nbb_cells.length; ++i) {\n",
       "                    if (nbb_cells[i].input_prompt_number == nbb_cell_id) {\n",
       "                        if (nbb_cells[i].get_text() == nbb_unformatted_code) {\n",
       "                             nbb_cells[i].set_text(nbb_formatted_code);\n",
       "                        }\n",
       "                        break;\n",
       "                    }\n",
       "                }\n",
       "            }, 500);\n",
       "            "
      ],
      "text/plain": [
       "<IPython.core.display.Javascript object>"
      ]
     },
     "metadata": {},
     "output_type": "display_data"
    }
   ],
   "source": [
    "%load_ext nb_black"
   ]
  },
  {
   "cell_type": "code",
   "execution_count": 2,
   "id": "0e3b7dca",
   "metadata": {
    "ExecuteTime": {
     "end_time": "2023-09-09T22:54:29.607746Z",
     "start_time": "2023-09-09T22:54:29.594748Z"
    }
   },
   "outputs": [
    {
     "data": {
      "application/javascript": [
       "\n",
       "            setTimeout(function() {\n",
       "                var nbb_cell_id = 2;\n",
       "                var nbb_unformatted_code = \"# pip install confluent-kafka\";\n",
       "                var nbb_formatted_code = \"# pip install confluent-kafka\";\n",
       "                var nbb_cells = Jupyter.notebook.get_cells();\n",
       "                for (var i = 0; i < nbb_cells.length; ++i) {\n",
       "                    if (nbb_cells[i].input_prompt_number == nbb_cell_id) {\n",
       "                        if (nbb_cells[i].get_text() == nbb_unformatted_code) {\n",
       "                             nbb_cells[i].set_text(nbb_formatted_code);\n",
       "                        }\n",
       "                        break;\n",
       "                    }\n",
       "                }\n",
       "            }, 500);\n",
       "            "
      ],
      "text/plain": [
       "<IPython.core.display.Javascript object>"
      ]
     },
     "metadata": {},
     "output_type": "display_data"
    }
   ],
   "source": [
    "# pip install confluent-kafka"
   ]
  },
  {
   "cell_type": "code",
   "execution_count": 3,
   "id": "b2b6481a",
   "metadata": {
    "ExecuteTime": {
     "end_time": "2023-09-09T22:54:29.654746Z",
     "start_time": "2023-09-09T22:54:29.609748Z"
    }
   },
   "outputs": [
    {
     "data": {
      "application/javascript": [
       "\n",
       "            setTimeout(function() {\n",
       "                var nbb_cell_id = 3;\n",
       "                var nbb_unformatted_code = \"from configparser import ConfigParser\\nfrom confluent_kafka import Producer\\nimport socket\";\n",
       "                var nbb_formatted_code = \"from configparser import ConfigParser\\nfrom confluent_kafka import Producer\\nimport socket\";\n",
       "                var nbb_cells = Jupyter.notebook.get_cells();\n",
       "                for (var i = 0; i < nbb_cells.length; ++i) {\n",
       "                    if (nbb_cells[i].input_prompt_number == nbb_cell_id) {\n",
       "                        if (nbb_cells[i].get_text() == nbb_unformatted_code) {\n",
       "                             nbb_cells[i].set_text(nbb_formatted_code);\n",
       "                        }\n",
       "                        break;\n",
       "                    }\n",
       "                }\n",
       "            }, 500);\n",
       "            "
      ],
      "text/plain": [
       "<IPython.core.display.Javascript object>"
      ]
     },
     "metadata": {},
     "output_type": "display_data"
    }
   ],
   "source": [
    "from configparser import ConfigParser\n",
    "from confluent_kafka import Producer\n",
    "import socket"
   ]
  },
  {
   "cell_type": "code",
   "execution_count": 4,
   "id": "1f1c4092",
   "metadata": {
    "ExecuteTime": {
     "end_time": "2023-09-09T22:54:30.589782Z",
     "start_time": "2023-09-09T22:54:29.655747Z"
    }
   },
   "outputs": [
    {
     "name": "stdout",
     "output_type": "stream",
     "text": [
      "lkc-7pxqnj\n"
     ]
    },
    {
     "data": {
      "application/javascript": [
       "\n",
       "            setTimeout(function() {\n",
       "                var nbb_cell_id = 4;\n",
       "                var nbb_unformatted_code = \"parser = ConfigParser()\\n_ = parser.read(\\\"notebook.cfg\\\")\\nkakfaUsername = parser.get(\\\"my_Notebook\\\", \\\"sasl.username\\\")\\nkakfaPassword = parser.get(\\\"my_Notebook\\\", \\\"sasl.password\\\")\\nconf = {\\n    \\\"bootstrap.servers\\\": \\\"pkc-419q3.us-east4.gcp.confluent.cloud:9092\\\",\\n    \\\"security.protocol\\\": \\\"SASL_SSL\\\",\\n    \\\"sasl.mechanism\\\": \\\"PLAIN\\\",\\n    \\\"sasl.username\\\": kakfaUsername,\\n    \\\"sasl.password\\\": kakfaPassword,\\n    \\\"client.id\\\": socket.gethostname(),\\n}\\n\\nproducer = Producer(conf)\\ntopics = producer.list_topics()\\nprint(topics)\";\n",
       "                var nbb_formatted_code = \"parser = ConfigParser()\\n_ = parser.read(\\\"notebook.cfg\\\")\\nkakfaUsername = parser.get(\\\"my_Notebook\\\", \\\"sasl.username\\\")\\nkakfaPassword = parser.get(\\\"my_Notebook\\\", \\\"sasl.password\\\")\\nconf = {\\n    \\\"bootstrap.servers\\\": \\\"pkc-419q3.us-east4.gcp.confluent.cloud:9092\\\",\\n    \\\"security.protocol\\\": \\\"SASL_SSL\\\",\\n    \\\"sasl.mechanism\\\": \\\"PLAIN\\\",\\n    \\\"sasl.username\\\": kakfaUsername,\\n    \\\"sasl.password\\\": kakfaPassword,\\n    \\\"client.id\\\": socket.gethostname(),\\n}\\n\\nproducer = Producer(conf)\\ntopics = producer.list_topics()\\nprint(topics)\";\n",
       "                var nbb_cells = Jupyter.notebook.get_cells();\n",
       "                for (var i = 0; i < nbb_cells.length; ++i) {\n",
       "                    if (nbb_cells[i].input_prompt_number == nbb_cell_id) {\n",
       "                        if (nbb_cells[i].get_text() == nbb_unformatted_code) {\n",
       "                             nbb_cells[i].set_text(nbb_formatted_code);\n",
       "                        }\n",
       "                        break;\n",
       "                    }\n",
       "                }\n",
       "            }, 500);\n",
       "            "
      ],
      "text/plain": [
       "<IPython.core.display.Javascript object>"
      ]
     },
     "metadata": {},
     "output_type": "display_data"
    }
   ],
   "source": [
    "parser = ConfigParser()\n",
    "_ = parser.read(\"notebook.cfg\")\n",
    "kakfaUsername = parser.get(\"my_Notebook\", \"sasl.username\")\n",
    "kakfaPassword = parser.get(\"my_Notebook\", \"sasl.password\")\n",
    "conf = {\n",
    "    \"bootstrap.servers\": \"pkc-419q3.us-east4.gcp.confluent.cloud:9092\",\n",
    "    \"security.protocol\": \"SASL_SSL\",\n",
    "    \"sasl.mechanism\": \"PLAIN\",\n",
    "    \"sasl.username\": kakfaUsername,\n",
    "    \"sasl.password\": kakfaPassword,\n",
    "    \"client.id\": socket.gethostname(),\n",
    "}\n",
    "\n",
    "producer = Producer(conf)\n",
    "topics = producer.list_topics()\n",
    "print(topics)"
   ]
  },
  {
   "cell_type": "markdown",
   "id": "2521198d",
   "metadata": {
    "ExecuteTime": {
     "end_time": "2023-09-09T17:57:55.692657Z",
     "start_time": "2023-09-09T17:57:55.683625Z"
    }
   },
   "source": [
    "Settings"
   ]
  },
  {
   "cell_type": "code",
   "execution_count": 5,
   "id": "934977c3",
   "metadata": {
    "ExecuteTime": {
     "end_time": "2023-09-09T22:54:30.605745Z",
     "start_time": "2023-09-09T22:54:30.591747Z"
    }
   },
   "outputs": [
    {
     "data": {
      "application/javascript": [
       "\n",
       "            setTimeout(function() {\n",
       "                var nbb_cell_id = 5;\n",
       "                var nbb_unformatted_code = \"topicName = \\\"speedtest\\\"\\nsleepMinutes = 20\";\n",
       "                var nbb_formatted_code = \"topicName = \\\"speedtest\\\"\\nsleepMinutes = 20\";\n",
       "                var nbb_cells = Jupyter.notebook.get_cells();\n",
       "                for (var i = 0; i < nbb_cells.length; ++i) {\n",
       "                    if (nbb_cells[i].input_prompt_number == nbb_cell_id) {\n",
       "                        if (nbb_cells[i].get_text() == nbb_unformatted_code) {\n",
       "                             nbb_cells[i].set_text(nbb_formatted_code);\n",
       "                        }\n",
       "                        break;\n",
       "                    }\n",
       "                }\n",
       "            }, 500);\n",
       "            "
      ],
      "text/plain": [
       "<IPython.core.display.Javascript object>"
      ]
     },
     "metadata": {},
     "output_type": "display_data"
    }
   ],
   "source": [
    "topicName = \"speedtest\"\n",
    "sleepMinutes = 20"
   ]
  },
  {
   "cell_type": "markdown",
   "id": "6b477c44",
   "metadata": {
    "ExecuteTime": {
     "end_time": "2023-07-08T14:08:49.858737Z",
     "start_time": "2023-07-08T14:08:46.272326Z"
    }
   },
   "source": [
    "Ensure speedtest-cli is installed in your environment"
   ]
  },
  {
   "cell_type": "code",
   "execution_count": 6,
   "id": "f851da15",
   "metadata": {
    "ExecuteTime": {
     "end_time": "2023-09-09T22:54:30.637747Z",
     "start_time": "2023-09-09T22:54:30.606756Z"
    }
   },
   "outputs": [
    {
     "data": {
      "application/javascript": [
       "\n",
       "            setTimeout(function() {\n",
       "                var nbb_cell_id = 6;\n",
       "                var nbb_unformatted_code = \"# pip install speedtest-cli\";\n",
       "                var nbb_formatted_code = \"# pip install speedtest-cli\";\n",
       "                var nbb_cells = Jupyter.notebook.get_cells();\n",
       "                for (var i = 0; i < nbb_cells.length; ++i) {\n",
       "                    if (nbb_cells[i].input_prompt_number == nbb_cell_id) {\n",
       "                        if (nbb_cells[i].get_text() == nbb_unformatted_code) {\n",
       "                             nbb_cells[i].set_text(nbb_formatted_code);\n",
       "                        }\n",
       "                        break;\n",
       "                    }\n",
       "                }\n",
       "            }, 500);\n",
       "            "
      ],
      "text/plain": [
       "<IPython.core.display.Javascript object>"
      ]
     },
     "metadata": {},
     "output_type": "display_data"
    }
   ],
   "source": [
    "# pip install speedtest-cli"
   ]
  },
  {
   "cell_type": "markdown",
   "id": "595fc7e9",
   "metadata": {},
   "source": [
    "Imports"
   ]
  },
  {
   "cell_type": "code",
   "execution_count": 7,
   "id": "12ce34ac",
   "metadata": {
    "ExecuteTime": {
     "end_time": "2023-09-09T22:54:30.792746Z",
     "start_time": "2023-09-09T22:54:30.640748Z"
    }
   },
   "outputs": [
    {
     "data": {
      "application/javascript": [
       "\n",
       "            setTimeout(function() {\n",
       "                var nbb_cell_id = 7;\n",
       "                var nbb_unformatted_code = \"import os\\nimport speedtest\\nimport socket\\nimport requests\\nimport json\\nimport datetime\\nimport time\\nimport calendar\";\n",
       "                var nbb_formatted_code = \"import os\\nimport speedtest\\nimport socket\\nimport requests\\nimport json\\nimport datetime\\nimport time\\nimport calendar\";\n",
       "                var nbb_cells = Jupyter.notebook.get_cells();\n",
       "                for (var i = 0; i < nbb_cells.length; ++i) {\n",
       "                    if (nbb_cells[i].input_prompt_number == nbb_cell_id) {\n",
       "                        if (nbb_cells[i].get_text() == nbb_unformatted_code) {\n",
       "                             nbb_cells[i].set_text(nbb_formatted_code);\n",
       "                        }\n",
       "                        break;\n",
       "                    }\n",
       "                }\n",
       "            }, 500);\n",
       "            "
      ],
      "text/plain": [
       "<IPython.core.display.Javascript object>"
      ]
     },
     "metadata": {},
     "output_type": "display_data"
    }
   ],
   "source": [
    "import os\n",
    "import speedtest\n",
    "import socket\n",
    "import requests\n",
    "import json\n",
    "import datetime\n",
    "import time\n",
    "import calendar"
   ]
  },
  {
   "cell_type": "markdown",
   "id": "cedd8a73",
   "metadata": {
    "ExecuteTime": {
     "end_time": "2023-07-08T14:49:08.362905Z",
     "start_time": "2023-07-08T14:49:08.269901Z"
    }
   },
   "source": [
    "Define function to generate speed test results"
   ]
  },
  {
   "cell_type": "code",
   "execution_count": 8,
   "id": "c7ed0428",
   "metadata": {
    "ExecuteTime": {
     "end_time": "2023-09-09T22:54:30.822777Z",
     "start_time": "2023-09-09T22:54:30.793748Z"
    }
   },
   "outputs": [
    {
     "data": {
      "application/javascript": [
       "\n",
       "            setTimeout(function() {\n",
       "                var nbb_cell_id = 8;\n",
       "                var nbb_unformatted_code = \"def test():\\n    s = speedtest.Speedtest()\\n    ip = socket.gethostbyname(socket.gethostname())\\n    ipUrl = \\\"https://api.ipify.org/?format=json\\\"\\n    response = json.loads(requests.get(ipUrl).text)\\n    print(response)\\n    print(response[\\\"ip\\\"])\\n    externalIp = response[\\\"ip\\\"]\\n    s.get_servers()\\n    s.get_best_server()\\n    s.download()\\n    s.upload()\\n    res = s.results.dict()\\n    return res[\\\"download\\\"], res[\\\"upload\\\"], res[\\\"ping\\\"], externalIp\";\n",
       "                var nbb_formatted_code = \"def test():\\n    s = speedtest.Speedtest()\\n    ip = socket.gethostbyname(socket.gethostname())\\n    ipUrl = \\\"https://api.ipify.org/?format=json\\\"\\n    response = json.loads(requests.get(ipUrl).text)\\n    print(response)\\n    print(response[\\\"ip\\\"])\\n    externalIp = response[\\\"ip\\\"]\\n    s.get_servers()\\n    s.get_best_server()\\n    s.download()\\n    s.upload()\\n    res = s.results.dict()\\n    return res[\\\"download\\\"], res[\\\"upload\\\"], res[\\\"ping\\\"], externalIp\";\n",
       "                var nbb_cells = Jupyter.notebook.get_cells();\n",
       "                for (var i = 0; i < nbb_cells.length; ++i) {\n",
       "                    if (nbb_cells[i].input_prompt_number == nbb_cell_id) {\n",
       "                        if (nbb_cells[i].get_text() == nbb_unformatted_code) {\n",
       "                             nbb_cells[i].set_text(nbb_formatted_code);\n",
       "                        }\n",
       "                        break;\n",
       "                    }\n",
       "                }\n",
       "            }, 500);\n",
       "            "
      ],
      "text/plain": [
       "<IPython.core.display.Javascript object>"
      ]
     },
     "metadata": {},
     "output_type": "display_data"
    }
   ],
   "source": [
    "def test():\n",
    "    s = speedtest.Speedtest()\n",
    "    ip = socket.gethostbyname(socket.gethostname())\n",
    "    ipUrl = \"https://api.ipify.org/?format=json\"\n",
    "    response = json.loads(requests.get(ipUrl).text)\n",
    "    print(response)\n",
    "    print(response[\"ip\"])\n",
    "    externalIp = response[\"ip\"]\n",
    "    s.get_servers()\n",
    "    s.get_best_server()\n",
    "    s.download()\n",
    "    s.upload()\n",
    "    res = s.results.dict()\n",
    "    return res[\"download\"], res[\"upload\"], res[\"ping\"], externalIp"
   ]
  },
  {
   "cell_type": "markdown",
   "id": "4c60dbda",
   "metadata": {
    "ExecuteTime": {
     "end_time": "2023-07-08T14:49:08.393907Z",
     "start_time": "2023-07-08T14:49:08.378901Z"
    }
   },
   "source": [
    "Define function to send data to kafka server"
   ]
  },
  {
   "cell_type": "code",
   "execution_count": 9,
   "id": "43915739",
   "metadata": {
    "ExecuteTime": {
     "end_time": "2023-09-09T22:54:30.838750Z",
     "start_time": "2023-09-09T22:54:30.823750Z"
    }
   },
   "outputs": [
    {
     "data": {
      "application/javascript": [
       "\n",
       "            setTimeout(function() {\n",
       "                var nbb_cell_id = 9;\n",
       "                var nbb_unformatted_code = \"def acked(err, msg):\\n    print(\\\"Massage Acked\\\")\\n    if err is not None:\\n        print(\\\"Failed to deliver message: %s: %s\\\" % (str(msg), str(err)))\\n    else:\\n        print(\\\"Message produced: %s\\\" % (str(msg)))\\n\\n\\ndef SendToStream(data):\\n    try:\\n        print(\\\"enter SendToStream\\\", data)\\n        result = producer.produce(topicName, key=\\\"reading\\\", value=data, callback=acked)\\n        producer.flush()\\n        print(\\\"Sent data\\\")\\n    except Exception as e:\\n        print(\\\"Unable to send data\\\", e)\";\n",
       "                var nbb_formatted_code = \"def acked(err, msg):\\n    print(\\\"Massage Acked\\\")\\n    if err is not None:\\n        print(\\\"Failed to deliver message: %s: %s\\\" % (str(msg), str(err)))\\n    else:\\n        print(\\\"Message produced: %s\\\" % (str(msg)))\\n\\n\\ndef SendToStream(data):\\n    try:\\n        print(\\\"enter SendToStream\\\", data)\\n        result = producer.produce(topicName, key=\\\"reading\\\", value=data, callback=acked)\\n        producer.flush()\\n        print(\\\"Sent data\\\")\\n    except Exception as e:\\n        print(\\\"Unable to send data\\\", e)\";\n",
       "                var nbb_cells = Jupyter.notebook.get_cells();\n",
       "                for (var i = 0; i < nbb_cells.length; ++i) {\n",
       "                    if (nbb_cells[i].input_prompt_number == nbb_cell_id) {\n",
       "                        if (nbb_cells[i].get_text() == nbb_unformatted_code) {\n",
       "                             nbb_cells[i].set_text(nbb_formatted_code);\n",
       "                        }\n",
       "                        break;\n",
       "                    }\n",
       "                }\n",
       "            }, 500);\n",
       "            "
      ],
      "text/plain": [
       "<IPython.core.display.Javascript object>"
      ]
     },
     "metadata": {},
     "output_type": "display_data"
    }
   ],
   "source": [
    "def acked(err, msg):\n",
    "    print(\"Massage Acked\")\n",
    "    if err is not None:\n",
    "        print(\"Failed to deliver message: %s: %s\" % (str(msg), str(err)))\n",
    "    else:\n",
    "        print(\"Message produced: %s\" % (str(msg)))\n",
    "\n",
    "\n",
    "def SendToStream(data):\n",
    "    try:\n",
    "        print(\"enter SendToStream\", data)\n",
    "        result = producer.produce(topicName, key=\"reading\", value=data, callback=acked)\n",
    "        producer.flush()\n",
    "        print(\"Sent data\")\n",
    "    except Exception as e:\n",
    "        print(\"Unable to send data\", e)"
   ]
  },
  {
   "cell_type": "markdown",
   "id": "4c6e2fbc",
   "metadata": {},
   "source": [
    "Helper function to return timestamp"
   ]
  },
  {
   "cell_type": "code",
   "execution_count": 10,
   "id": "9d2956a2",
   "metadata": {
    "ExecuteTime": {
     "end_time": "2023-09-09T22:54:30.853748Z",
     "start_time": "2023-09-09T22:54:30.840750Z"
    }
   },
   "outputs": [
    {
     "data": {
      "application/javascript": [
       "\n",
       "            setTimeout(function() {\n",
       "                var nbb_cell_id = 10;\n",
       "                var nbb_unformatted_code = \"def GetTimestamp():\\n    gmTime = time.gmtime()\\n    now = calendar.timegm(gmTime)\\n    print(\\\"GetTimestamp\\\", now, gmTime)\\n    return now\";\n",
       "                var nbb_formatted_code = \"def GetTimestamp():\\n    gmTime = time.gmtime()\\n    now = calendar.timegm(gmTime)\\n    print(\\\"GetTimestamp\\\", now, gmTime)\\n    return now\";\n",
       "                var nbb_cells = Jupyter.notebook.get_cells();\n",
       "                for (var i = 0; i < nbb_cells.length; ++i) {\n",
       "                    if (nbb_cells[i].input_prompt_number == nbb_cell_id) {\n",
       "                        if (nbb_cells[i].get_text() == nbb_unformatted_code) {\n",
       "                             nbb_cells[i].set_text(nbb_formatted_code);\n",
       "                        }\n",
       "                        break;\n",
       "                    }\n",
       "                }\n",
       "            }, 500);\n",
       "            "
      ],
      "text/plain": [
       "<IPython.core.display.Javascript object>"
      ]
     },
     "metadata": {},
     "output_type": "display_data"
    }
   ],
   "source": [
    "def GetTimestamp():\n",
    "    gmTime = time.gmtime()\n",
    "    now = calendar.timegm(gmTime)\n",
    "    print(\"GetTimestamp\", now, gmTime)\n",
    "    return now"
   ]
  },
  {
   "cell_type": "markdown",
   "id": "75f2a793",
   "metadata": {},
   "source": [
    "Main logic - get timesamp, run test, send results to kafka, sleep and repeat"
   ]
  },
  {
   "cell_type": "code",
   "execution_count": null,
   "id": "eaecbad5",
   "metadata": {
    "ExecuteTime": {
     "start_time": "2023-09-09T22:54:29.430Z"
    }
   },
   "outputs": [
    {
     "name": "stdout",
     "output_type": "stream",
     "text": [
      "ready to start work\n",
      "GetTimestamp 1694300070 time.struct_time(tm_year=2023, tm_mon=9, tm_mday=9, tm_hour=22, tm_min=54, tm_sec=30, tm_wday=5, tm_yday=252, tm_isdst=0)\n",
      "{'ip': '98.97.18.13'}\n",
      "98.97.18.13\n",
      "6495605.582977719 5297714.570500506 71.762 98.97.18.13\n",
      "enter SendToStream {\"utc\": 1694300070, \"ip\": \"98.97.18.13\", \"download\": 6495605.582977719, \"upload\": 5297714.570500506, \"ping\": 71.762}\n",
      "Massage Acked\n",
      "Message produced: <cimpl.Message object at 0x0000019740A1E640>\n",
      "Sent data\n",
      "sleeping 20\n",
      "GetTimestamp 1694300296 time.struct_time(tm_year=2023, tm_mon=9, tm_mday=9, tm_hour=22, tm_min=58, tm_sec=16, tm_wday=5, tm_yday=252, tm_isdst=0)\n",
      "{'ip': '98.97.18.13'}\n",
      "98.97.18.13\n",
      "2112227.374288108 11715944.260317484 62.025 98.97.18.13\n",
      "enter SendToStream {\"utc\": 1694300296, \"ip\": \"98.97.18.13\", \"download\": 2112227.374288108, \"upload\": 11715944.260317484, \"ping\": 62.025}\n",
      "Massage Acked\n",
      "Message produced: <cimpl.Message object at 0x0000019740A1E4C0>\n",
      "Sent data\n",
      "sleeping 20\n",
      "GetTimestamp 1694300521 time.struct_time(tm_year=2023, tm_mon=9, tm_mday=9, tm_hour=23, tm_min=2, tm_sec=1, tm_wday=5, tm_yday=252, tm_isdst=0)\n",
      "exception HTTP Error 403: Forbidden\n",
      "enter SendToStream {\"utc\": 1694300521, \"ip\": \"192.168.68.109\", \"download\": -1, \"upload\": -1, \"ping\": -1}\n",
      "Massage Acked\n",
      "Message produced: <cimpl.Message object at 0x0000019740A1E840>\n",
      "Sent data\n",
      "sleeping 20\n"
     ]
    }
   ],
   "source": [
    "print(\"ready to start work\")\n",
    "linesToWrite = []\n",
    "while True:\n",
    "    try:\n",
    "        now = GetTimestamp()\n",
    "        d, u, p, ip = test()\n",
    "        print(d, u, p, ip)\n",
    "    except Exception as ex:\n",
    "        print(\"exception\", ex)\n",
    "        d = -1\n",
    "        u = -1\n",
    "        p = -1\n",
    "        ip = socket.gethostbyname(socket.gethostname())\n",
    "    eventData = json.dumps(\n",
    "        {\"utc\": now, \"ip\": ip, \"download\": d, \"upload\": u, \"ping\": p}\n",
    "    )\n",
    "    SendToStream(eventData)\n",
    "    if sleepMinutes > 0:\n",
    "        print(\"sleeping\", sleepMinutes)\n",
    "        time.sleep(sleepMinutes * 10)  # time.sleep takes seconds as parameter"
   ]
  },
  {
   "cell_type": "code",
   "execution_count": null,
   "id": "008ff3cc",
   "metadata": {},
   "outputs": [],
   "source": []
  }
 ],
 "metadata": {
  "kernelspec": {
   "display_name": "Python 3",
   "language": "python",
   "name": "python3"
  },
  "language_info": {
   "codemirror_mode": {
    "name": "ipython",
    "version": 3
   },
   "file_extension": ".py",
   "mimetype": "text/x-python",
   "name": "python",
   "nbconvert_exporter": "python",
   "pygments_lexer": "ipython3",
   "version": "3.8.10"
  },
  "latex_envs": {
   "LaTeX_envs_menu_present": true,
   "autoclose": false,
   "autocomplete": true,
   "bibliofile": "biblio.bib",
   "cite_by": "apalike",
   "current_citInitial": 1,
   "eqLabelWithNumbers": true,
   "eqNumInitial": 1,
   "hotkeys": {
    "equation": "Ctrl-E",
    "itemize": "Ctrl-I"
   },
   "labels_anchors": false,
   "latex_user_defs": false,
   "report_style_numbering": false,
   "user_envs_cfg": false
  },
  "toc": {
   "base_numbering": 1,
   "nav_menu": {},
   "number_sections": true,
   "sideBar": true,
   "skip_h1_title": false,
   "title_cell": "Table of Contents",
   "title_sidebar": "Contents",
   "toc_cell": false,
   "toc_position": {},
   "toc_section_display": true,
   "toc_window_display": false
  }
 },
 "nbformat": 4,
 "nbformat_minor": 5
}
