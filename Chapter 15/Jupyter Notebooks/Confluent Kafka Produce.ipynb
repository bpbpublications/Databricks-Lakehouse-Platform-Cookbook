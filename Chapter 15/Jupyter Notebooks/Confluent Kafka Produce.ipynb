{
 "cells": [
  {
   "cell_type": "code",
   "execution_count": 2,
   "id": "b018d0ad",
   "metadata": {
    "ExecuteTime": {
     "end_time": "2023-09-09T17:48:54.034010Z",
     "start_time": "2023-09-09T17:48:51.516642Z"
    }
   },
   "outputs": [
    {
     "name": "stdout",
     "output_type": "stream",
     "text": [
      "Requirement already satisfied: confluent-kafka in c:\\users\\aland\\anaconda3\\envs\\pythonandr\\lib\\site-packages (2.2.0)\n",
      "Note: you may need to restart the kernel to use updated packages.\n"
     ]
    },
    {
     "name": "stderr",
     "output_type": "stream",
     "text": [
      "WARNING: Ignoring invalid distribution -illow (c:\\users\\aland\\anaconda3\\envs\\pythonandr\\lib\\site-packages)\n",
      "WARNING: Ignoring invalid distribution -illow (c:\\users\\aland\\anaconda3\\envs\\pythonandr\\lib\\site-packages)\n",
      "WARNING: Ignoring invalid distribution -illow (c:\\users\\aland\\anaconda3\\envs\\pythonandr\\lib\\site-packages)\n",
      "WARNING: Ignoring invalid distribution -illow (c:\\users\\aland\\anaconda3\\envs\\pythonandr\\lib\\site-packages)\n",
      "WARNING: Ignoring invalid distribution -illow (c:\\users\\aland\\anaconda3\\envs\\pythonandr\\lib\\site-packages)\n",
      "WARNING: Ignoring invalid distribution -illow (c:\\users\\aland\\anaconda3\\envs\\pythonandr\\lib\\site-packages)\n"
     ]
    }
   ],
   "source": [
    "pip install confluent-kafka"
   ]
  },
  {
   "cell_type": "code",
   "execution_count": 5,
   "id": "7dc08ffd",
   "metadata": {
    "ExecuteTime": {
     "end_time": "2023-09-09T18:51:27.966555Z",
     "start_time": "2023-09-09T18:51:27.923556Z"
    }
   },
   "outputs": [],
   "source": [
    "from confluent_kafka import Producer\n",
    "import socket\n",
    "\n",
    "conf = {'bootstrap.servers': 'pkc-419q3.us-east4.gcp.confluent.cloud:9092',\n",
    "        'security.protocol': 'SASL_SSL',\n",
    "        'sasl.mechanism': 'PLAIN',\n",
    "        'sasl.username': 'QUIBVSBKHHLWLPZA',\n",
    "        'sasl.password': 'fVhHFoDT0ABUZS9SDwv1iHagNVhc7dv3L8u3dr+uAMh0B7ttSEoxuYWqfnzX5i9I',\n",
    "        'client.id': socket.gethostname()}\n",
    "producer = Producer(conf)"
   ]
  },
  {
   "cell_type": "code",
   "execution_count": 13,
   "id": "d66fafad",
   "metadata": {
    "ExecuteTime": {
     "end_time": "2023-09-09T18:53:55.603179Z",
     "start_time": "2023-09-09T18:53:55.595180Z"
    }
   },
   "outputs": [],
   "source": [
    "def acked(err, msg):\n",
    "    print(\"enter acked\")\n",
    "    if err is not None:\n",
    "        print(\"Failed to deliver message: %s: %s\" % (str(msg), str(err)))\n",
    "    else:\n",
    "        print(\"Message produced: %s\" % (str(msg)))"
   ]
  },
  {
   "cell_type": "code",
   "execution_count": 14,
   "id": "0f526d2c",
   "metadata": {
    "ExecuteTime": {
     "end_time": "2023-09-09T18:53:56.500902Z",
     "start_time": "2023-09-09T18:53:56.441901Z"
    }
   },
   "outputs": [
    {
     "name": "stdout",
     "output_type": "stream",
     "text": [
      "enter acked\n",
      "Message produced: <cimpl.Message object at 0x000002228DE0E940>\n"
     ]
    },
    {
     "data": {
      "text/plain": [
       "0"
      ]
     },
     "execution_count": 14,
     "metadata": {},
     "output_type": "execute_result"
    }
   ],
   "source": [
    "producer.produce(\"speedtest\", key=\"key\", value=\"value\",callback=acked)\n",
    "producer.flush()"
   ]
  },
  {
   "cell_type": "code",
   "execution_count": null,
   "id": "2d6f67d6",
   "metadata": {},
   "outputs": [],
   "source": []
  },
  {
   "cell_type": "code",
   "execution_count": null,
   "id": "28630afe",
   "metadata": {},
   "outputs": [],
   "source": []
  }
 ],
 "metadata": {
  "kernelspec": {
   "display_name": "Python [conda env:PythonAndR] *",
   "language": "python",
   "name": "conda-env-PythonAndR-py"
  },
  "language_info": {
   "codemirror_mode": {
    "name": "ipython",
    "version": 3
   },
   "file_extension": ".py",
   "mimetype": "text/x-python",
   "name": "python",
   "nbconvert_exporter": "python",
   "pygments_lexer": "ipython3",
   "version": "3.8.10"
  },
  "toc": {
   "base_numbering": 1,
   "nav_menu": {},
   "number_sections": true,
   "sideBar": true,
   "skip_h1_title": false,
   "title_cell": "Table of Contents",
   "title_sidebar": "Contents",
   "toc_cell": false,
   "toc_position": {},
   "toc_section_display": true,
   "toc_window_display": false
  }
 },
 "nbformat": 4,
 "nbformat_minor": 5
}
