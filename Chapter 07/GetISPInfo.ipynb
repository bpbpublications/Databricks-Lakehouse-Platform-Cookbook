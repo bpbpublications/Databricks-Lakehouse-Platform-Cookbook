{
 "cells": [
  {
   "cell_type": "code",
   "execution_count": 1,
   "id": "5f9ceb11",
   "metadata": {
    "ExecuteTime": {
     "end_time": "2023-07-16T20:59:47.551697Z",
     "start_time": "2023-07-16T20:59:47.411702Z"
    }
   },
   "outputs": [],
   "source": [
    "import socket\n",
    "import requests\n",
    "import json\n",
    "import datetime\n",
    "import time\n",
    "import calendar"
   ]
  },
  {
   "cell_type": "code",
   "execution_count": 2,
   "id": "43e3e0cc",
   "metadata": {
    "ExecuteTime": {
     "end_time": "2023-07-16T20:59:47.567696Z",
     "start_time": "2023-07-16T20:59:47.552698Z"
    }
   },
   "outputs": [],
   "source": [
    "from configparser import ConfigParser\n",
    "parser = ConfigParser()\n",
    "_ = parser.read('notebook.cfg')\n",
    "eventHubConnectString = parser.get('GetISPInfo_Notebook','eventHubConnectString')\n",
    "eventhub_name =\"ispinfo\""
   ]
  },
  {
   "cell_type": "code",
   "execution_count": 3,
   "id": "a2921128",
   "metadata": {
    "ExecuteTime": {
     "end_time": "2023-07-16T20:59:47.583696Z",
     "start_time": "2023-07-16T20:59:47.569698Z"
    }
   },
   "outputs": [],
   "source": [
    "sleepMinutes =10"
   ]
  },
  {
   "cell_type": "code",
   "execution_count": 4,
   "id": "aad33e05",
   "metadata": {
    "ExecuteTime": {
     "end_time": "2023-07-16T20:59:47.598696Z",
     "start_time": "2023-07-16T20:59:47.584699Z"
    }
   },
   "outputs": [],
   "source": [
    "\n",
    "def GetTimestamp():\n",
    "    gmTime= time.gmtime()    \n",
    "    now = calendar.timegm( gmTime)\n",
    "    print(\"GetTimestamp\",now,gmTime)\n",
    "    return now"
   ]
  },
  {
   "cell_type": "code",
   "execution_count": 5,
   "id": "eb16e07b",
   "metadata": {
    "ExecuteTime": {
     "end_time": "2023-07-16T20:59:47.613697Z",
     "start_time": "2023-07-16T20:59:47.599698Z"
    }
   },
   "outputs": [],
   "source": [
    "def GetISPInfo():\n",
    "    ipUrl = \"http://ip-api.com/json\"\n",
    "    response= json.loads(requests.get(ipUrl).content)\n",
    "    print(response)\n",
    "    print(response[\"query\"])\n",
    "    return response"
   ]
  },
  {
   "cell_type": "code",
   "execution_count": 6,
   "id": "bd660bac",
   "metadata": {
    "ExecuteTime": {
     "end_time": "2023-07-16T20:59:47.724696Z",
     "start_time": "2023-07-16T20:59:47.614697Z"
    }
   },
   "outputs": [],
   "source": [
    "from azure.eventhub import EventHubProducerClient, EventData\n",
    "def SendToEventHub(data):\n",
    "    try:\n",
    "        print(\"enter SendToEventHub\", data)\n",
    "        client = EventHubProducerClient.from_connection_string(eventHubConnectString, eventhub_name=eventhub_name)\n",
    "        event_data_batch = client.create_batch()\n",
    "        event_data_batch.add(EventData(data))\n",
    "        with client:\n",
    "            client.send_batch(event_data_batch)\n",
    "        print(\"Sent data\")\n",
    "    except Exception as e:\n",
    "        print(\"Unable to send data to event hub\",e)"
   ]
  },
  {
   "cell_type": "code",
   "execution_count": null,
   "id": "8fc212af",
   "metadata": {
    "ExecuteTime": {
     "start_time": "2023-07-16T20:59:47.395Z"
    }
   },
   "outputs": [
    {
     "name": "stdout",
     "output_type": "stream",
     "text": [
      "ready to start work\n",
      "GetTimestamp 1689541187 time.struct_time(tm_year=2023, tm_mon=7, tm_mday=16, tm_hour=20, tm_min=59, tm_sec=47, tm_wday=6, tm_yday=197, tm_isdst=0)\n",
      "{'status': 'success', 'country': 'United States', 'countryCode': 'US', 'region': 'NY', 'regionName': 'New York', 'city': 'New York', 'zip': '', 'lat': 40.7127, 'lon': -74.0059, 'timezone': 'America/New_York', 'isp': 'SpaceX Starlink', 'org': 'SpaceX Services, Inc', 'as': 'AS14593 Space Exploration Technologies Corporation', 'query': '129.222.216.91'}\n",
      "129.222.216.91\n",
      "1689541187 {'status': 'success', 'country': 'United States', 'countryCode': 'US', 'region': 'NY', 'regionName': 'New York', 'city': 'New York', 'zip': '', 'lat': 40.7127, 'lon': -74.0059, 'timezone': 'America/New_York', 'isp': 'SpaceX Starlink', 'org': 'SpaceX Services, Inc', 'as': 'AS14593 Space Exploration Technologies Corporation', 'query': '129.222.216.91'}\n",
      "enter SendToEventHub {\"utc\": 1689541187, \"ip\": \"172.18.160.1\", \"ispInfo\": {\"status\": \"success\", \"country\": \"United States\", \"countryCode\": \"US\", \"region\": \"NY\", \"regionName\": \"New York\", \"city\": \"New York\", \"zip\": \"\", \"lat\": 40.7127, \"lon\": -74.0059, \"timezone\": \"America/New_York\", \"isp\": \"SpaceX Starlink\", \"org\": \"SpaceX Services, Inc\", \"as\": \"AS14593 Space Exploration Technologies Corporation\", \"query\": \"129.222.216.91\"}}\n",
      "Sent data\n",
      "sent to event hub {\"utc\": 1689541187, \"ip\": \"172.18.160.1\", \"ispInfo\": {\"status\": \"success\", \"country\": \"United States\", \"countryCode\": \"US\", \"region\": \"NY\", \"regionName\": \"New York\", \"city\": \"New York\", \"zip\": \"\", \"lat\": 40.7127, \"lon\": -74.0059, \"timezone\": \"America/New_York\", \"isp\": \"SpaceX Starlink\", \"org\": \"SpaceX Services, Inc\", \"as\": \"AS14593 Space Exploration Technologies Corporation\", \"query\": \"129.222.216.91\"}}\n",
      "sleeping 10\n"
     ]
    }
   ],
   "source": [
    "import time\n",
    "print(\"ready to start work\")\n",
    "linesToWrite = []\n",
    "while (True):  \n",
    "    try:\n",
    "        ip = socket.gethostbyname(socket.gethostname())\n",
    "        now = GetTimestamp()\n",
    "        ispInfo= GetISPInfo()\n",
    "        print(now,ispInfo)\n",
    "    except  Exception as ex:\n",
    "        print(\"exception\",ex)\n",
    "        now = GetTimestamp()\n",
    "        ispInfo = None\n",
    "        ip = socket.gethostbyname(socket.gethostname())\n",
    "    eventData = json.dumps( {\"utc\":now,\"ip\":ip,\"ispInfo\":ispInfo})\n",
    "    SendToEventHub(eventData)\n",
    "    print(\"sent to event hub\",eventData)\n",
    "    if sleepMinutes>0:\n",
    "        print('sleeping',sleepMinutes)\n",
    "        time.sleep(sleepMinutes * 10) # time.sleep takes seconds as parameter"
   ]
  },
  {
   "cell_type": "code",
   "execution_count": null,
   "id": "58d9a340",
   "metadata": {},
   "outputs": [],
   "source": []
  }
 ],
 "metadata": {
  "kernelspec": {
   "display_name": "Python [conda env:PythonAndR] *",
   "language": "python",
   "name": "conda-env-PythonAndR-py"
  },
  "language_info": {
   "codemirror_mode": {
    "name": "ipython",
    "version": 3
   },
   "file_extension": ".py",
   "mimetype": "text/x-python",
   "name": "python",
   "nbconvert_exporter": "python",
   "pygments_lexer": "ipython3",
   "version": "3.8.10"
  },
  "toc": {
   "base_numbering": 1,
   "nav_menu": {},
   "number_sections": true,
   "sideBar": true,
   "skip_h1_title": false,
   "title_cell": "Table of Contents",
   "title_sidebar": "Contents",
   "toc_cell": false,
   "toc_position": {},
   "toc_section_display": true,
   "toc_window_display": false
  }
 },
 "nbformat": 4,
 "nbformat_minor": 5
}
