{
 "cells": [
  {
   "cell_type": "code",
   "execution_count": 1,
   "id": "1f1c4092",
   "metadata": {
    "ExecuteTime": {
     "end_time": "2023-07-08T14:49:08.173984Z",
     "start_time": "2023-07-08T14:49:08.159970Z"
    }
   },
   "outputs": [],
   "source": [
    "from configparser import ConfigParser\n",
    "parser = ConfigParser()\n",
    "_ = parser.read('notebook.cfg')\n",
    "eventHubConnectString = parser.get('my_Notebook','eventHubConnectString')"
   ]
  },
  {
   "cell_type": "code",
   "execution_count": 2,
   "id": "0e3b7dca",
   "metadata": {
    "ExecuteTime": {
     "end_time": "2023-07-08T14:49:08.190017Z",
     "start_time": "2023-07-08T14:49:08.174610Z"
    }
   },
   "outputs": [],
   "source": [
    " # pip install azure-eventhub"
   ]
  },
  {
   "cell_type": "code",
   "execution_count": 3,
   "id": "934977c3",
   "metadata": {
    "ExecuteTime": {
     "end_time": "2023-07-08T14:49:08.206015Z",
     "start_time": "2023-07-08T14:49:08.190901Z"
    }
   },
   "outputs": [],
   "source": [
    "eventhub_name = 'speedtest'\n",
    "sleepMinutes = 10"
   ]
  },
  {
   "cell_type": "code",
   "execution_count": null,
   "id": "840ef30c",
   "metadata": {
    "ExecuteTime": {
     "end_time": "2023-07-08T14:08:49.858737Z",
     "start_time": "2023-07-08T14:08:46.272326Z"
    }
   },
   "outputs": [],
   "source": []
  },
  {
   "cell_type": "code",
   "execution_count": 4,
   "id": "f851da15",
   "metadata": {
    "ExecuteTime": {
     "end_time": "2023-07-08T14:49:08.220949Z",
     "start_time": "2023-07-08T14:49:08.206901Z"
    }
   },
   "outputs": [],
   "source": [
    "# pip install speedtest-cli"
   ]
  },
  {
   "cell_type": "code",
   "execution_count": 5,
   "id": "12ce34ac",
   "metadata": {
    "ExecuteTime": {
     "end_time": "2023-07-08T14:49:08.268917Z",
     "start_time": "2023-07-08T14:49:08.221901Z"
    }
   },
   "outputs": [],
   "source": [
    "import os\n",
    "import speedtest "
   ]
  },
  {
   "cell_type": "code",
   "execution_count": 6,
   "id": "543fd9fe",
   "metadata": {
    "ExecuteTime": {
     "end_time": "2023-07-08T14:49:08.362905Z",
     "start_time": "2023-07-08T14:49:08.269901Z"
    }
   },
   "outputs": [],
   "source": [
    "import socket\n",
    "import requests\n",
    "import json"
   ]
  },
  {
   "cell_type": "code",
   "execution_count": null,
   "id": "d399c2e0",
   "metadata": {
    "ExecuteTime": {
     "end_time": "2023-07-08T14:13:04.001692Z",
     "start_time": "2023-07-08T14:13:03.992659Z"
    }
   },
   "outputs": [],
   "source": []
  },
  {
   "cell_type": "code",
   "execution_count": 7,
   "id": "c7ed0428",
   "metadata": {
    "ExecuteTime": {
     "end_time": "2023-07-08T14:49:08.377907Z",
     "start_time": "2023-07-08T14:49:08.364900Z"
    }
   },
   "outputs": [],
   "source": [
    "def test():\n",
    "    s = speedtest.Speedtest()\n",
    "    ip = socket.gethostbyname(socket.gethostname())\n",
    "    ipUrl = \"https://api.ipify.org/?format=json\"\n",
    "    response= json.loads(requests.get(ipUrl).text)\n",
    "    print(response)\n",
    "    print(response[\"ip\"])\n",
    "    externalIp = response[\"ip\"]\n",
    "    s.get_servers()\n",
    "    s.get_best_server()\n",
    "    s.download()\n",
    "    s.upload()\n",
    "    res = s.results.dict()\n",
    "    return res[\"download\"], res[\"upload\"], res[\"ping\"],externalIp"
   ]
  },
  {
   "cell_type": "code",
   "execution_count": 8,
   "id": "d87e7ae1",
   "metadata": {
    "ExecuteTime": {
     "end_time": "2023-07-08T14:49:08.393907Z",
     "start_time": "2023-07-08T14:49:08.378901Z"
    }
   },
   "outputs": [],
   "source": [
    "import datetime\n",
    "import time"
   ]
  },
  {
   "cell_type": "code",
   "execution_count": 9,
   "id": "43915739",
   "metadata": {
    "ExecuteTime": {
     "end_time": "2023-07-08T14:49:08.487901Z",
     "start_time": "2023-07-08T14:49:08.394910Z"
    }
   },
   "outputs": [],
   "source": [
    "from azure.eventhub import EventHubProducerClient, EventData\n",
    "def SendToEventHub(data):\n",
    "    try:\n",
    "        print(\"enter SendToEventHub\", data)\n",
    "        client = EventHubProducerClient.from_connection_string(eventHubConnectString, eventhub_name=eventhub_name)\n",
    "        event_data_batch = client.create_batch()\n",
    "        event_data_batch.add(EventData(data))\n",
    "        with client:\n",
    "            client.send_batch(event_data_batch)\n",
    "        print(\"Sent data\")\n",
    "    except Exception as e:\n",
    "        print(\"Unable to send data to event hub\",e)"
   ]
  },
  {
   "cell_type": "code",
   "execution_count": 10,
   "id": "9d2956a2",
   "metadata": {
    "ExecuteTime": {
     "end_time": "2023-07-08T14:49:08.503903Z",
     "start_time": "2023-07-08T14:49:08.488901Z"
    }
   },
   "outputs": [],
   "source": [
    "import time\n",
    "import calendar\n",
    "def GetTimestamp():\n",
    "    gmTime= time.gmtime()    \n",
    "    now = calendar.timegm( gmTime)\n",
    "    print(\"GetTimestamp\",now,gmTime)\n",
    "    return now"
   ]
  },
  {
   "cell_type": "code",
   "execution_count": null,
   "id": "eaecbad5",
   "metadata": {
    "ExecuteTime": {
     "start_time": "2023-07-08T14:49:08.148Z"
    }
   },
   "outputs": [
    {
     "name": "stdout",
     "output_type": "stream",
     "text": [
      "ready to start work\n",
      "GetTimestamp 1688827748 time.struct_time(tm_year=2023, tm_mon=7, tm_mday=8, tm_hour=14, tm_min=49, tm_sec=8, tm_wday=5, tm_yday=189, tm_isdst=0)\n",
      "{'ip': '98.97.19.239'}\n",
      "98.97.19.239\n",
      "17897527.560420774 9300811.476445962 48.418 98.97.19.239\n",
      "enter SendToEventHub {\"utc\": 1688827748, \"ip\": \"98.97.19.239\", \"download\": 17897527.560420774, \"upload\": 9300811.476445962, \"ping\": 48.418}\n",
      "Sent data\n",
      "sent to event hub\n",
      "sleeping 10\n"
     ]
    }
   ],
   "source": [
    "import time\n",
    "print(\"ready to start work\")\n",
    "linesToWrite = []\n",
    "while (True):  \n",
    "    try:\n",
    "        now = GetTimestamp()\n",
    "        d, u, p,ip = test()\n",
    "        print(d,u,p,ip)\n",
    "    except  Exception as ex:\n",
    "        print(\"exception\",ex)\n",
    "        d = -1\n",
    "        u = -1\n",
    "        p = -1\n",
    "        ip = socket.gethostbyname(socket.gethostname())\n",
    "    eventData = json.dumps( {\"utc\":now,\"ip\":ip,\"download\":d,\"upload\":u,\"ping\":p})\n",
    "    SendToEventHub(eventData)\n",
    "    print(\"sent to event hub\")\n",
    "    if sleepMinutes>0:\n",
    "        print('sleeping',sleepMinutes)\n",
    "        time.sleep(sleepMinutes * 10) # time.sleep takes seconds as parameter"
   ]
  },
  {
   "cell_type": "code",
   "execution_count": null,
   "id": "008ff3cc",
   "metadata": {},
   "outputs": [],
   "source": []
  }
 ],
 "metadata": {
  "kernelspec": {
   "display_name": "Python 3",
   "language": "python",
   "name": "python3"
  },
  "language_info": {
   "codemirror_mode": {
    "name": "ipython",
    "version": 3
   },
   "file_extension": ".py",
   "mimetype": "text/x-python",
   "name": "python",
   "nbconvert_exporter": "python",
   "pygments_lexer": "ipython3",
   "version": "3.8.10"
  },
  "latex_envs": {
   "LaTeX_envs_menu_present": true,
   "autoclose": false,
   "autocomplete": true,
   "bibliofile": "biblio.bib",
   "cite_by": "apalike",
   "current_citInitial": 1,
   "eqLabelWithNumbers": true,
   "eqNumInitial": 1,
   "hotkeys": {
    "equation": "Ctrl-E",
    "itemize": "Ctrl-I"
   },
   "labels_anchors": false,
   "latex_user_defs": false,
   "report_style_numbering": false,
   "user_envs_cfg": false
  },
  "toc": {
   "base_numbering": 1,
   "nav_menu": {},
   "number_sections": true,
   "sideBar": true,
   "skip_h1_title": false,
   "title_cell": "Table of Contents",
   "title_sidebar": "Contents",
   "toc_cell": false,
   "toc_position": {},
   "toc_section_display": true,
   "toc_window_display": false
  }
 },
 "nbformat": 4,
 "nbformat_minor": 5
}
