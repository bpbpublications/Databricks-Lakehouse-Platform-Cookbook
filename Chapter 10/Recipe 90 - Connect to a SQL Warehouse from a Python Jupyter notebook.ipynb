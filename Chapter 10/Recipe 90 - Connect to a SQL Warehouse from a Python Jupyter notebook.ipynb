{
 "cells": [
  {
   "cell_type": "code",
   "execution_count": 1,
   "id": "03854bb8",
   "metadata": {
    "ExecuteTime": {
     "end_time": "2023-08-03T20:33:03.897531Z",
     "start_time": "2023-08-03T20:31:46.049305Z"
    }
   },
   "outputs": [
    {
     "name": "stdout",
     "output_type": "stream",
     "text": [
      "Collecting databricks-sql-connector\n",
      "  Downloading databricks_sql_connector-2.8.0-py3-none-any.whl (290 kB)\n",
      "Collecting alembic<2.0.0,>=1.0.11\n",
      "  Downloading alembic-1.11.1-py3-none-any.whl (224 kB)\n",
      "Collecting lz4<5.0.0,>=4.0.2\n",
      "  Downloading lz4-4.3.2-cp38-cp38-win_amd64.whl (99 kB)\n",
      "Collecting pandas<3.0.0,>=1.2.5\n",
      "  Downloading pandas-2.0.3-cp38-cp38-win_amd64.whl (10.8 MB)\n",
      "Requirement already satisfied: requests<3.0.0,>=2.18.1 in c:\\users\\aland\\anaconda3\\envs\\pythonandr\\lib\\site-packages (from databricks-sql-connector) (2.25.1)\n",
      "Collecting pyarrow>=6.0.0\n",
      "  Downloading pyarrow-12.0.1-cp38-cp38-win_amd64.whl (21.5 MB)\n",
      "Collecting thrift<0.17.0,>=0.16.0\n",
      "  Downloading thrift-0.16.0.tar.gz (59 kB)\n",
      "Requirement already satisfied: numpy>=1.16.6 in c:\\users\\aland\\anaconda3\\envs\\pythonandr\\lib\\site-packages (from databricks-sql-connector) (1.19.5)\n",
      "Collecting sqlalchemy<2.0.0,>=1.3.24\n",
      "  Downloading SQLAlchemy-1.4.49-cp38-cp38-win_amd64.whl (1.6 MB)\n",
      "Collecting openpyxl<4.0.0,>=3.0.10\n",
      "  Downloading openpyxl-3.1.2-py2.py3-none-any.whl (249 kB)\n",
      "Requirement already satisfied: oauthlib<4.0.0,>=3.1.0 in c:\\users\\aland\\anaconda3\\envs\\pythonandr\\lib\\site-packages (from databricks-sql-connector) (3.1.1)\n",
      "Collecting typing-extensions>=4\n",
      "  Downloading typing_extensions-4.7.1-py3-none-any.whl (33 kB)\n",
      "Requirement already satisfied: Mako in c:\\users\\aland\\anaconda3\\envs\\pythonandr\\lib\\site-packages (from alembic<2.0.0,>=1.0.11->databricks-sql-connector) (1.1.5)\n",
      "Requirement already satisfied: importlib-metadata in c:\\users\\aland\\anaconda3\\envs\\pythonandr\\lib\\site-packages (from alembic<2.0.0,>=1.0.11->databricks-sql-connector) (4.5.0)\n",
      "Collecting importlib-resources\n",
      "  Downloading importlib_resources-6.0.0-py3-none-any.whl (31 kB)\n",
      "Collecting et-xmlfile\n",
      "  Downloading et_xmlfile-1.1.0-py3-none-any.whl (4.7 kB)\n",
      "Collecting numpy>=1.16.6\n",
      "  Downloading numpy-1.24.4-cp38-cp38-win_amd64.whl (14.9 MB)\n",
      "Collecting python-dateutil>=2.8.2\n",
      "  Using cached python_dateutil-2.8.2-py2.py3-none-any.whl (247 kB)\n",
      "Requirement already satisfied: pytz>=2020.1 in c:\\users\\aland\\anaconda3\\envs\\pythonandr\\lib\\site-packages (from pandas<3.0.0,>=1.2.5->databricks-sql-connector) (2021.1)\n",
      "Collecting tzdata>=2022.1\n",
      "  Downloading tzdata-2023.3-py2.py3-none-any.whl (341 kB)\n",
      "Requirement already satisfied: six>=1.5 in c:\\users\\aland\\anaconda3\\envs\\pythonandr\\lib\\site-packages (from python-dateutil>=2.8.2->pandas<3.0.0,>=1.2.5->databricks-sql-connector) (1.15.0)\n",
      "Requirement already satisfied: chardet<5,>=3.0.2 in c:\\users\\aland\\anaconda3\\envs\\pythonandr\\lib\\site-packages (from requests<3.0.0,>=2.18.1->databricks-sql-connector) (4.0.0)\n",
      "Requirement already satisfied: idna<3,>=2.5 in c:\\users\\aland\\anaconda3\\envs\\pythonandr\\lib\\site-packages (from requests<3.0.0,>=2.18.1->databricks-sql-connector) (2.10)\n",
      "Requirement already satisfied: certifi>=2017.4.17 in c:\\users\\aland\\anaconda3\\envs\\pythonandr\\lib\\site-packages (from requests<3.0.0,>=2.18.1->databricks-sql-connector) (2021.10.8)\n",
      "Requirement already satisfied: urllib3<1.27,>=1.21.1 in c:\\users\\aland\\anaconda3\\envs\\pythonandr\\lib\\site-packages (from requests<3.0.0,>=2.18.1->databricks-sql-connector) (1.26.16)\n",
      "Collecting greenlet!=0.4.17\n",
      "  Downloading greenlet-2.0.2-cp38-cp38-win_amd64.whl (192 kB)\n",
      "Requirement already satisfied: zipp>=0.5 in c:\\users\\aland\\anaconda3\\envs\\pythonandr\\lib\\site-packages (from importlib-metadata->alembic<2.0.0,>=1.0.11->databricks-sql-connector) (3.4.1)\n",
      "Requirement already satisfied: MarkupSafe>=0.9.2 in c:\\users\\aland\\anaconda3\\envs\\pythonandr\\lib\\site-packages (from Mako->alembic<2.0.0,>=1.0.11->databricks-sql-connector) (2.0.1)\n",
      "Building wheels for collected packages: thrift\n",
      "  Building wheel for thrift (setup.py): started\n",
      "  Building wheel for thrift (setup.py): finished with status 'done'\n",
      "  Created wheel for thrift: filename=thrift-0.16.0-cp38-cp38-win_amd64.whl size=177134 sha256=f517950e0b94186fc57c5a42d0a30ae0b5287ed129d153f7888b0b512bbdd4fe\n",
      "  Stored in directory: c:\\users\\aland\\appdata\\local\\pip\\cache\\wheels\\c1\\03\\53\\7220f8aeecbf2c66ef655a9cff1929299e38119502a316ae30\n",
      "Successfully built thrift\n",
      "Installing collected packages: greenlet, tzdata, typing-extensions, sqlalchemy, python-dateutil, numpy, importlib-resources, et-xmlfile, thrift, pyarrow, pandas, openpyxl, lz4, alembic, databricks-sql-connector\n",
      "  Attempting uninstall: typing-extensions\n",
      "    Found existing installation: typing-extensions 3.7.4.3\n",
      "    Uninstalling typing-extensions-3.7.4.3:\n",
      "      Successfully uninstalled typing-extensions-3.7.4.3\n",
      "  Attempting uninstall: python-dateutil\n",
      "    Found existing installation: python-dateutil 2.8.1\n",
      "    Uninstalling python-dateutil-2.8.1:\n",
      "      Successfully uninstalled python-dateutil-2.8.1\n",
      "  Attempting uninstall: numpy\n",
      "    Found existing installation: numpy 1.19.5\n",
      "    Uninstalling numpy-1.19.5:Note: you may need to restart the kernel to use updated packages.\n"
     ]
    },
    {
     "name": "stderr",
     "output_type": "stream",
     "text": [
      "WARNING: Ignoring invalid distribution -illow (c:\\users\\aland\\anaconda3\\envs\\pythonandr\\lib\\site-packages)\n",
      "WARNING: Ignoring invalid distribution -illow (c:\\users\\aland\\anaconda3\\envs\\pythonandr\\lib\\site-packages)\n",
      "WARNING: Ignoring invalid distribution -illow (c:\\users\\aland\\anaconda3\\envs\\pythonandr\\lib\\site-packages)\n",
      "    WARNING: Ignoring invalid distribution -illow (c:\\users\\aland\\anaconda3\\envs\\pythonandr\\lib\\site-packages)\n",
      "    WARNING: Ignoring invalid distribution -illow (c:\\users\\aland\\anaconda3\\envs\\pythonandr\\lib\\site-packages)\n",
      "    WARNING: Ignoring invalid distribution -illow (c:\\users\\aland\\anaconda3\\envs\\pythonandr\\lib\\site-packages)\n",
      "    WARNING: Ignoring invalid distribution -illow (c:\\users\\aland\\anaconda3\\envs\\pythonandr\\lib\\site-packages)\n",
      "    WARNING: Ignoring invalid distribution -illow (c:\\users\\aland\\anaconda3\\envs\\pythonandr\\lib\\site-packages)\n",
      "    WARNING: Ignoring invalid distribution -illow (c:\\users\\aland\\anaconda3\\envs\\pythonandr\\lib\\site-packages)\n",
      "WARNING: Ignoring invalid distribution -illow (c:\\users\\aland\\anaconda3\\envs\\pythonandr\\lib\\site-packages)\n",
      "WARNING: Ignoring invalid distribution -illow (c:\\users\\aland\\anaconda3\\envs\\pythonandr\\lib\\site-packages)\n",
      "WARNING: Ignoring invalid distribution -illow (c:\\users\\aland\\anaconda3\\envs\\pythonandr\\lib\\site-packages)\n",
      "WARNING: Ignoring invalid distribution -illow (c:\\users\\aland\\anaconda3\\envs\\pythonandr\\lib\\site-packages)\n",
      "WARNING: Ignoring invalid distribution -illow (c:\\users\\aland\\anaconda3\\envs\\pythonandr\\lib\\site-packages)\n",
      "WARNING: Ignoring invalid distribution -illow (c:\\users\\aland\\anaconda3\\envs\\pythonandr\\lib\\site-packages)\n",
      "WARNING: Ignoring invalid distribution -illow (c:\\users\\aland\\anaconda3\\envs\\pythonandr\\lib\\site-packages)\n",
      "WARNING: Ignoring invalid distribution -illow (c:\\users\\aland\\anaconda3\\envs\\pythonandr\\lib\\site-packages)\n",
      "WARNING: Ignoring invalid distribution -illow (c:\\users\\aland\\anaconda3\\envs\\pythonandr\\lib\\site-packages)\n",
      "WARNING: Ignoring invalid distribution -illow (c:\\users\\aland\\anaconda3\\envs\\pythonandr\\lib\\site-packages)\n",
      "WARNING: Ignoring invalid distribution -illow (c:\\users\\aland\\anaconda3\\envs\\pythonandr\\lib\\site-packages)\n",
      "WARNING: Ignoring invalid distribution -illow (c:\\users\\aland\\anaconda3\\envs\\pythonandr\\lib\\site-packages)\n",
      "WARNING: Ignoring invalid distribution -illow (c:\\users\\aland\\anaconda3\\envs\\pythonandr\\lib\\site-packages)\n",
      "WARNING: Ignoring invalid distribution -illow (c:\\users\\aland\\anaconda3\\envs\\pythonandr\\lib\\site-packages)\n",
      "WARNING: Ignoring invalid distribution -illow (c:\\users\\aland\\anaconda3\\envs\\pythonandr\\lib\\site-packages)\n",
      "ERROR: pip's dependency resolver does not currently take into account all the packages that are installed. This behaviour is the source of the following dependency conflicts.\n",
      "tensorflow 2.6.0 requires numpy~=1.19.2, but you have numpy 1.24.4 which is incompatible.\n",
      "tensorflow 2.6.0 requires typing-extensions~=3.7.4, but you have typing-extensions 4.7.1 which is incompatible.\n",
      "scipy 1.6.3 requires numpy<1.23.0,>=1.16.5, but you have numpy 1.24.4 which is incompatible.\n",
      "ppscore 1.2.0 requires pandas<2.0.0,>=1.0.0, but you have pandas 2.0.3 which is incompatible.\n",
      "imageio 2.13.5 requires pillow>=8.3.2, but you have pillow 8.2.0 which is incompatible.\n",
      "fancyimpute 0.6.0 requires keras==2.4.3, but you have keras 2.6.0 which is incompatible.\n",
      "fancyimpute 0.6.0 requires numpy==1.19.5, but you have numpy 1.24.4 which is incompatible.\n",
      "fancyimpute 0.6.0 requires tensorflow==2.5, but you have tensorflow 2.6.0 which is incompatible.\n",
      "WARNING: Ignoring invalid distribution -illow (c:\\users\\aland\\anaconda3\\envs\\pythonandr\\lib\\site-packages)\n",
      "WARNING: Ignoring invalid distribution -illow (c:\\users\\aland\\anaconda3\\envs\\pythonandr\\lib\\site-packages)\n",
      "WARNING: Ignoring invalid distribution -illow (c:\\users\\aland\\anaconda3\\envs\\pythonandr\\lib\\site-packages)\n"
     ]
    },
    {
     "name": "stdout",
     "output_type": "stream",
     "text": [
      "\n",
      "      Successfully uninstalled numpy-1.19.5\n",
      "  Attempting uninstall: thrift\n",
      "    Found existing installation: thrift 0.13.0\n",
      "    Uninstalling thrift-0.13.0:\n",
      "      Successfully uninstalled thrift-0.13.0\n",
      "  Attempting uninstall: pyarrow\n",
      "    Found existing installation: pyarrow 5.0.0\n",
      "    Uninstalling pyarrow-5.0.0:\n",
      "      Successfully uninstalled pyarrow-5.0.0\n",
      "  Attempting uninstall: pandas\n",
      "    Found existing installation: pandas 1.2.4\n",
      "    Uninstalling pandas-1.2.4:\n",
      "      Successfully uninstalled pandas-1.2.4\n",
      "Successfully installed alembic-1.11.1 databricks-sql-connector-2.8.0 et-xmlfile-1.1.0 greenlet-2.0.2 importlib-resources-6.0.0 lz4-4.3.2 numpy-1.24.4 openpyxl-3.1.2 pandas-2.0.3 pyarrow-12.0.1 python-dateutil-2.8.2 sqlalchemy-1.4.49 thrift-0.16.0 typing-extensions-4.7.1 tzdata-2023.3\n"
     ]
    }
   ],
   "source": [
    "pip install databricks-sql-connector"
   ]
  },
  {
   "cell_type": "code",
   "execution_count": 2,
   "id": "757cedd9",
   "metadata": {
    "ExecuteTime": {
     "end_time": "2023-08-03T20:46:40.627201Z",
     "start_time": "2023-08-03T20:46:40.615201Z"
    }
   },
   "outputs": [],
   "source": [
    "accessToken  = \"dapiXXXXXXXXXXXXXXXXXXXXXXXX-3\" # Replace with a valid token"
   ]
  },
  {
   "cell_type": "code",
   "execution_count": 7,
   "id": "f066a4b2",
   "metadata": {
    "ExecuteTime": {
     "end_time": "2023-08-03T20:49:49.172283Z",
     "start_time": "2023-08-03T20:49:47.880253Z"
    }
   },
   "outputs": [
    {
     "name": "stdout",
     "output_type": "stream",
     "text": [
      "[Row(databaseName='default'), Row(databaseName='lakehousecookbook')]\n"
     ]
    }
   ],
   "source": [
    "from databricks import sql\n",
    "import os\n",
    "connection = sql.connect(server_hostname = \"adb-2804941329846326.6.azuredatabricks.net\",\n",
    "                        http_path = \"/sql/1.0/warehouses/677a7d3544bd052f\",\n",
    "                        access_token = accessToken)\n",
    "cursor = connection.cursor()\n",
    "cursor.execute(\"SHOW SCHEMAS\")\n",
    "print(cursor.fetchall())\n",
    "cursor.close()\n",
    "connection.close()"
   ]
  },
  {
   "cell_type": "code",
   "execution_count": null,
   "id": "f695e443",
   "metadata": {},
   "outputs": [],
   "source": []
  }
 ],
 "metadata": {
  "kernelspec": {
   "display_name": "Python [conda env:PythonAndR] *",
   "language": "python",
   "name": "conda-env-PythonAndR-py"
  },
  "language_info": {
   "codemirror_mode": {
    "name": "ipython",
    "version": 3
   },
   "file_extension": ".py",
   "mimetype": "text/x-python",
   "name": "python",
   "nbconvert_exporter": "python",
   "pygments_lexer": "ipython3",
   "version": "3.8.10"
  },
  "toc": {
   "base_numbering": 1,
   "nav_menu": {},
   "number_sections": true,
   "sideBar": true,
   "skip_h1_title": false,
   "title_cell": "Table of Contents",
   "title_sidebar": "Contents",
   "toc_cell": false,
   "toc_position": {},
   "toc_section_display": true,
   "toc_window_display": false
  }
 },
 "nbformat": 4,
 "nbformat_minor": 5
}
